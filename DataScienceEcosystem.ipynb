{
 "cells": [
  {
   "cell_type": "markdown",
   "id": "8ce0e71b-4f3b-4213-99f2-c7ac9ee6f9ff",
   "metadata": {},
   "source": [
    "# Data Science Tools and Ecosystem"
   ]
  },
  {
   "cell_type": "markdown",
   "id": "ae9bf02c-1072-4d25-9e8d-d883356ed139",
   "metadata": {},
   "source": [
    "In this notebook, Data Science Tools and Ecosystem are summarized."
   ]
  },
  {
   "cell_type": "markdown",
   "id": "a0483686-b6b2-49f3-9732-abdff81ad4df",
   "metadata": {},
   "source": [
    "**Objectives:**\n",
    "* List popular languages for Data Science\n",
    "* List of the commonly used libraries used by Data Scientists\n",
    "* Tools used in Data Science\n",
    "* Evaluation of Arithmatic Expressions in Python"
   ]
  },
  {
   "cell_type": "markdown",
   "id": "11801b8b-fa74-42b3-a04d-0eaa866eccb1",
   "metadata": {},
   "source": [
    "Some of the popular languages that Data Scientists use are:\n",
    "1. Python\n",
    "2. R\n",
    "3. Scala\n",
    "4. SQL"
   ]
  },
  {
   "cell_type": "markdown",
   "id": "ba329179-d222-48ff-a26c-b06a9dfb4601",
   "metadata": {},
   "source": [
    "Some of the commonly used libraries used by Data Scientists include:\n",
    "1. NumPy\n",
    "2. Pandas\n",
    "3. SciPy\n",
    "4. TensorFlow\n",
    "5. Keras\n",
    "6. Matplotlib"
   ]
  },
  {
   "cell_type": "markdown",
   "id": "4b3dad7a-cf0f-4c8c-b9a5-318f2dee7488",
   "metadata": {},
   "source": [
    "|Data Science Tools|\n",
    "|------------------|\n",
    "|Jupyter Notebook|\n",
    "|RStudio|\n",
    "|Visual Studio Code|"
   ]
  },
  {
   "cell_type": "markdown",
   "id": "6d97e0fa-5690-411c-a78d-27ca05cb3c70",
   "metadata": {},
   "source": [
    "### Below are a few examples of evaluating arithmetic expressions in Python"
   ]
  },
  {
   "cell_type": "code",
   "execution_count": 19,
   "id": "895633b8-4858-4afe-b82d-1603c74cfcc6",
   "metadata": {},
   "outputs": [
    {
     "name": "stdout",
     "output_type": "stream",
     "text": [
      "17\n"
     ]
    }
   ],
   "source": [
    "#This a simple arithmetic expression to mutiply then add integers\n",
    "print((3*4)+5)"
   ]
  },
  {
   "cell_type": "code",
   "execution_count": 20,
   "id": "f6907658-1f02-41ba-a9a9-f42e61356b29",
   "metadata": {},
   "outputs": [
    {
     "name": "stdout",
     "output_type": "stream",
     "text": [
      "3.3333333333333335\n"
     ]
    }
   ],
   "source": [
    "#This will convert 200 minutes to hours by diving by 60\n",
    "print(200/60)"
   ]
  },
  {
   "cell_type": "markdown",
   "id": "e9664b66-6c0e-4aab-a5fb-31e9a210bb91",
   "metadata": {},
   "source": [
    "## Author\n",
    "Vishwajeet Bamane"
   ]
  }
 ],
 "metadata": {
  "kernelspec": {
   "display_name": "Python 3 (ipykernel)",
   "language": "python",
   "name": "python3"
  },
  "language_info": {
   "codemirror_mode": {
    "name": "ipython",
    "version": 3
   },
   "file_extension": ".py",
   "mimetype": "text/x-python",
   "name": "python",
   "nbconvert_exporter": "python",
   "pygments_lexer": "ipython3",
   "version": "3.12.1"
  }
 },
 "nbformat": 4,
 "nbformat_minor": 5
}
